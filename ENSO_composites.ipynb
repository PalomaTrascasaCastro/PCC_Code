{
 "cells": [
  {
   "cell_type": "code",
   "execution_count": null,
   "metadata": {},
   "outputs": [],
   "source": [
    "\"\"\" This code allows to identify El Niño and La Niña years, extract them and make a composite with all the El Niño and La Niña events together\n",
    "\n",
    "This particular example defines ENSO events in the Niño3.4 region\n",
    "\n",
    "Written by Paloma Trascasa-Castro\n",
    "\n",
    "\"\"\""
   ]
  },
  {
   "cell_type": "code",
   "execution_count": null,
   "metadata": {},
   "outputs": [],
   "source": [
    "# ENSO composites\n",
    "\n",
    "## This code allows to identify El Niño and La Niña years, extract them and make a composite with all the El Niño and La Niña events together\n",
    "\n",
    "## This particular example defines ENSO events in the Niño3.4 region\n",
    "\n",
    "## Written by Paloma Trascasa-Castro\n",
    "\n"
   ]
  },
  {
   "cell_type": "code",
   "execution_count": null,
   "metadata": {},
   "outputs": [],
   "source": [
    "# Import some libraries:\n",
    "\n",
    "%matplotlib inline\n",
    "import matplotlib as mpl\n",
    "import numpy as np\n",
    "import matplotlib.pyplot as plt\n",
    "from mpl_toolkits.basemap import Basemap\n",
    "import iris\n",
    "import matplotlib.cm as mpl_cm\n",
    "import iris.coord_categorisation as icc\n",
    "from numpy import meshgrid \n",
    "import warnings\n",
    "from iris.cube import Cube\n",
    "from iris.coords import DimCoord\n"
   ]
  },
  {
   "cell_type": "code",
   "execution_count": null,
   "metadata": {},
   "outputs": [],
   "source": [
    "# 1) Load your sea surface temperature data as an Iris cube:\n",
    "\n",
    "sst=iris.load_cube('/path/file.nc')\n",
    "\n",
    "\n",
    "# 2) There are many ways to identify ENSO events, here we'll use the Niño3.4 region (5N - 5S, 170W - 120W)\n",
    "#    as this is the most common appoach \n",
    "\n",
    "# Extract the area and average over the latitude and longitude dimensions\n",
    "\n",
    "sst=sst.intersection(longitude=(-170,-120))\n",
    "sst=sst.intersection(latitude=(-5,5))\n",
    "sst=sst.collapsed('longitude',iris.analysis.MEAN)\n",
    "sst=sst.collapsed('latitude',iris.analysis.MEAN)\n",
    "\n",
    "# Calculate SST anomalies over time\n",
    "\n",
    "sst_mean=sst.collapsed('time',iris.analysis.MEAN)\n",
    "sst_an=sst-sst_mean.data\n",
    "\n",
    "# 3) Threshold: +0.5C for El Niño and -0.5C for La Niña. This identifies the position (indices) of El Niño / La Niña events in your timeseries\n",
    "\n",
    "threshold=0.5\n",
    "\n",
    "# El Niño = SST anomalies are higher than 0.5C. \n",
    "nino_years=np.nonzero(sst_an.data > thres)\n",
    "\n",
    "# La Niña = SST anomalies are lower than -0.5C\n",
    "nina_years=np.nonzero(sst_an.data < -thres)\n",
    "\n",
    "\n",
    "# 4) Extract El Niño and La Niña years to make composites:\n",
    "\n",
    "nino=sst[nino_years]\n",
    "nina=sst[nina_years]\n",
    "\n",
    "# Now you have 2 cubes one for each ENSO phase, with as many time points as El Niño and La Niña events\n"
   ]
  },
  {
   "cell_type": "code",
   "execution_count": null,
   "metadata": {},
   "outputs": [],
   "source": [
    "# Plot\n",
    "\n",
    "# Average over time\n",
    "nino_tmean=nino.collapsed('time',iris.analysis.MEAN)\n",
    "\n",
    "plt.figure(figsize=(6, 2.5),dpi=350)\n",
    "\n",
    "# Choose your colour palette, in this case I use the \"RdBu_r\" that goes from blue to red\n",
    "brewer_cmap = mpl_cm.get_cmap('RdBu_r',50)\n",
    "\n",
    "# Restrict your area to the tropical Pacific\n",
    "m = Basemap(projection='gall',llcrnrlat=-30,urcrnrlat=30,\\\n",
    "            llcrnrlon=120,urcrnrlon=300,resolution='c')\n",
    "\n",
    "lat=nino_tmean.coord('latitude').points\n",
    "lon=nino_tmean.coord('longitude').points\n",
    "\n",
    "levels=np.linspace(-2,2,21)\n",
    "xx, yy = m(*np.meshgrid(lon,lat))\n",
    "\n",
    "# Plot\n",
    "cs=m.contourf(xx,yy,nino_tmean.data,levels=levels,cmap=brewer_cmap,extend=\"both\") \n",
    "\n",
    "# Add some feautres: Coastlines, parallels, meridians, colorbar, labels, etc.\n",
    "\n",
    "m.drawcoastlines(linewidth=0.8)\n",
    "m.drawparallels(np.arange(-90.,91.,10.), labels=[1,0,0,0], fontsize = 7,linewidth=0.5)    \n",
    "m.drawmeridians(np.arange(0.,361.,20.), labels=[1,1,0,1], fontsize = 7,linewidth=0.5)\n",
    "cbar=plt.colorbar(cs,orientation=\"horizontal\",aspect=40,pad=0.1,ticks=[-2,-1.5,-1,-0.5,0,0.5,1,1.5,2])\n",
    "m.fillcontinents(color='black',lake_color='aqua')\n",
    "cbar.set_label('SST anomalies (K)',size=15)\n",
    "cbar.ax.tick_params(labelsize=7) \n",
    "plt.title('El Niño',loc=\"center\",fontsize=12)\n",
    "\n",
    "# Save your plot\n",
    "\n",
    "plt.savefig('/path/elninosstpattern.png',bbox_inches = \"tight\", dpi=350)\n",
    "plt.show()"
   ]
  }
 ],
 "metadata": {
  "kernelspec": {
   "display_name": "Python 3",
   "language": "python",
   "name": "python3"
  },
  "language_info": {
   "codemirror_mode": {
    "name": "ipython",
    "version": 3
   },
   "file_extension": ".py",
   "mimetype": "text/x-python",
   "name": "python",
   "nbconvert_exporter": "python",
   "pygments_lexer": "ipython3",
   "version": "3.7.4"
  }
 },
 "nbformat": 4,
 "nbformat_minor": 4
}
